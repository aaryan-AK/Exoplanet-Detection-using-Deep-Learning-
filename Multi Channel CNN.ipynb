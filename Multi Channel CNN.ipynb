{
 "cells": [
  {
   "cell_type": "code",
   "execution_count": 1,
   "id": "aa7925d0",
   "metadata": {},
   "outputs": [
    {
     "name": "stdout",
     "output_type": "stream",
     "text": [
      "2.3.0\n"
     ]
    }
   ],
   "source": [
    "import tensorflow as tf\n",
    "print(tf.__version__)"
   ]
  },
  {
   "cell_type": "code",
   "execution_count": 2,
   "id": "6e24c27b",
   "metadata": {},
   "outputs": [],
   "source": [
    "from tensorflow.keras.layers import Flatten, Dense, Dropout, BatchNormalization, Conv1D, Conv2D, MaxPooling1D, MaxPooling2D"
   ]
  },
  {
   "cell_type": "code",
   "execution_count": 3,
   "id": "7b28b14e",
   "metadata": {},
   "outputs": [],
   "source": [
    "from tensorflow.keras.optimizers import Adam, SGD"
   ]
  },
  {
   "cell_type": "code",
   "execution_count": 4,
   "id": "e554ac2b",
   "metadata": {},
   "outputs": [],
   "source": [
    "import numpy as np\n",
    "import pandas as pd"
   ]
  },
  {
   "cell_type": "code",
   "execution_count": 5,
   "id": "0704caa5",
   "metadata": {},
   "outputs": [],
   "source": [
    "from sklearn.model_selection import train_test_split\n",
    "from tqdm import tqdm"
   ]
  },
  {
   "cell_type": "code",
   "execution_count": 6,
   "id": "aa6d9484",
   "metadata": {},
   "outputs": [],
   "source": [
    "from sklearn.preprocessing import StandardScaler, normalize"
   ]
  },
  {
   "cell_type": "code",
   "execution_count": 7,
   "id": "d91a2a8f",
   "metadata": {},
   "outputs": [],
   "source": [
    "data = pd.read_csv('exoTrain.csv')\n",
    "test_data = pd.read_csv('exoTest.csv')"
   ]
  },
  {
   "cell_type": "code",
   "execution_count": 8,
   "id": "c109ce48",
   "metadata": {},
   "outputs": [
    {
     "data": {
      "text/plain": [
       "(5087, 3198)"
      ]
     },
     "execution_count": 8,
     "metadata": {},
     "output_type": "execute_result"
    }
   ],
   "source": [
    "data.shape"
   ]
  },
  {
   "cell_type": "code",
   "execution_count": 9,
   "id": "b63b729e",
   "metadata": {},
   "outputs": [
    {
     "data": {
      "text/plain": [
       "(570, 3198)"
      ]
     },
     "execution_count": 9,
     "metadata": {},
     "output_type": "execute_result"
    }
   ],
   "source": [
    "test_data.shape"
   ]
  },
  {
   "cell_type": "code",
   "execution_count": 10,
   "id": "1c44dc61",
   "metadata": {},
   "outputs": [],
   "source": [
    "# Preparing the Dependent and Independent Variables\n",
    "\n",
    "x = data.drop(['LABEL'], axis = 1)\n",
    "y = data['LABEL']"
   ]
  },
  {
   "cell_type": "code",
   "execution_count": 11,
   "id": "f20e551f",
   "metadata": {},
   "outputs": [],
   "source": [
    "# Standardisation and Normalisation\n",
    "\n",
    "x = normalize(x)\n",
    "scaler = StandardScaler()\n",
    "x = scaler.fit_transform(x)"
   ]
  },
  {
   "cell_type": "code",
   "execution_count": 12,
   "id": "c88fe5d0",
   "metadata": {},
   "outputs": [],
   "source": [
    "# Code to make all labels Binary\n",
    "temp = []\n",
    "for e in y:\n",
    "    e = e-1\n",
    "    temp.append(e)\n",
    "  "
   ]
  },
  {
   "cell_type": "code",
   "execution_count": 13,
   "id": "14c17e7e",
   "metadata": {},
   "outputs": [],
   "source": [
    "# Splitting Dataset Into Training and Validation\n",
    "\n",
    "X_train, X_test, y_train, y_test = train_test_split(x, temp, random_state = 0, test_size = 0.2)"
   ]
  },
  {
   "cell_type": "code",
   "execution_count": 14,
   "id": "e6aa9797",
   "metadata": {},
   "outputs": [],
   "source": [
    "# Let us See How Many Elements Are Present In Each Class\n",
    "\n",
    "count_1 = 0\n",
    "count_0 = 0\n",
    "for e in y_train:\n",
    "    if e == 1:\n",
    "        count_1 = count_1 + 1\n",
    "    elif e == 0:\n",
    "        count_0 = count_0 + 1"
   ]
  },
  {
   "cell_type": "code",
   "execution_count": 15,
   "id": "a93cc84a",
   "metadata": {},
   "outputs": [
    {
     "name": "stdout",
     "output_type": "stream",
     "text": [
      "4040\n",
      "29\n"
     ]
    }
   ],
   "source": [
    "print(count_0)\n",
    "print(count_1)"
   ]
  },
  {
   "cell_type": "code",
   "execution_count": 16,
   "id": "f638f992",
   "metadata": {},
   "outputs": [],
   "source": [
    "# Clearly the Dataset is Highly Imbalanced. Hence We need to Perform Synthetic Over Sampling."
   ]
  },
  {
   "cell_type": "code",
   "execution_count": 17,
   "id": "a4405410",
   "metadata": {},
   "outputs": [],
   "source": [
    "#Preparing Test Set Data\n",
    "x_testf = test_data.drop(['LABEL'], axis = 1)\n",
    "y_testf = test_data['LABEL']\n",
    "x_testf.shape\n",
    "(570, 3197)\n",
    "y_testf.shape\n",
    "(570,)\n",
    "x_testf = normalize(x_testf)\n",
    "scaler = StandardScaler()\n",
    "x_testf = scaler.fit_transform(x_testf)\n",
    "# Code to make all labels Binary\n",
    "temp2 = []\n",
    "for e in y_testf:\n",
    "    e = e-1\n",
    "    temp2.append(e)\n",
    "# x_testf and temp2 are the x_data and y_data for the test set respectively"
   ]
  },
  {
   "cell_type": "code",
   "execution_count": 18,
   "id": "248d84cc",
   "metadata": {},
   "outputs": [],
   "source": [
    "# Now we use SMOTE to Synthesise Artificial Data to balance classes\n",
    "from imblearn.over_sampling import SMOTE"
   ]
  },
  {
   "cell_type": "code",
   "execution_count": 19,
   "id": "ad3c42d2",
   "metadata": {},
   "outputs": [],
   "source": [
    "sm = SMOTE(random_state=27)\n",
    "x_train_res, y_train_res = sm.fit_sample(X_train, y_train)"
   ]
  },
  {
   "cell_type": "code",
   "execution_count": 20,
   "id": "fc6871b3",
   "metadata": {},
   "outputs": [],
   "source": [
    "# Let's count how many elements are present in Class 1\n",
    "# The number of elements in each Class is now Equal\n",
    "\n",
    "count_1 = 0\n",
    "count_0 = 0\n",
    "for e in y_train_res:\n",
    "    if e == 1:\n",
    "        count_1 = count_1 + 1\n",
    "    elif e == 0:\n",
    "        count_0 = count_0 + 1"
   ]
  },
  {
   "cell_type": "code",
   "execution_count": 21,
   "id": "b87e430d",
   "metadata": {},
   "outputs": [
    {
     "name": "stdout",
     "output_type": "stream",
     "text": [
      "4040\n",
      "4040\n"
     ]
    }
   ],
   "source": [
    "print(count_0)\n",
    "print(count_1)"
   ]
  },
  {
   "cell_type": "code",
   "execution_count": 22,
   "id": "b93e9fd0",
   "metadata": {},
   "outputs": [
    {
     "data": {
      "text/plain": [
       "(8080, 3197)"
      ]
     },
     "execution_count": 22,
     "metadata": {},
     "output_type": "execute_result"
    }
   ],
   "source": [
    "x_train_res.shape"
   ]
  },
  {
   "cell_type": "code",
   "execution_count": 23,
   "id": "dfbdd95a",
   "metadata": {},
   "outputs": [
    {
     "data": {
      "text/plain": [
       "(8080,)"
      ]
     },
     "execution_count": 23,
     "metadata": {},
     "output_type": "execute_result"
    }
   ],
   "source": [
    "np.shape(y_train_res)"
   ]
  },
  {
   "cell_type": "code",
   "execution_count": 24,
   "id": "e5521d96",
   "metadata": {},
   "outputs": [],
   "source": [
    "# Changing Input Dimesnions to Make it Usable In CNNs\n",
    "\n",
    "from numpy import newaxis\n",
    "x_train = x_train_res[ :, :, newaxis]"
   ]
  },
  {
   "cell_type": "code",
   "execution_count": 25,
   "id": "d164a612",
   "metadata": {},
   "outputs": [
    {
     "data": {
      "text/plain": [
       "(8080, 3197, 1)"
      ]
     },
     "execution_count": 25,
     "metadata": {},
     "output_type": "execute_result"
    }
   ],
   "source": [
    "x_train.shape"
   ]
  },
  {
   "cell_type": "code",
   "execution_count": 26,
   "id": "5e925571",
   "metadata": {},
   "outputs": [
    {
     "data": {
      "text/plain": [
       "(1018, 3197)"
      ]
     },
     "execution_count": 26,
     "metadata": {},
     "output_type": "execute_result"
    }
   ],
   "source": [
    "X_test.shape"
   ]
  },
  {
   "cell_type": "code",
   "execution_count": 27,
   "id": "8f695a37",
   "metadata": {},
   "outputs": [],
   "source": [
    "x_test = X_test[ :, :, newaxis]"
   ]
  },
  {
   "cell_type": "code",
   "execution_count": 28,
   "id": "83e34bbf",
   "metadata": {},
   "outputs": [
    {
     "data": {
      "text/plain": [
       "(1018, 3197, 1)"
      ]
     },
     "execution_count": 28,
     "metadata": {},
     "output_type": "execute_result"
    }
   ],
   "source": [
    "x_test.shape"
   ]
  },
  {
   "cell_type": "code",
   "execution_count": 29,
   "id": "7b083786",
   "metadata": {},
   "outputs": [],
   "source": [
    "x_testf2 = x_testf[ :, :, newaxis]"
   ]
  },
  {
   "cell_type": "code",
   "execution_count": 30,
   "id": "e00623d5",
   "metadata": {},
   "outputs": [
    {
     "data": {
      "text/plain": [
       "(570, 3197, 1)"
      ]
     },
     "execution_count": 30,
     "metadata": {},
     "output_type": "execute_result"
    }
   ],
   "source": [
    "x_testf2.shape"
   ]
  },
  {
   "cell_type": "code",
   "execution_count": 31,
   "id": "a6d31b10",
   "metadata": {},
   "outputs": [],
   "source": [
    "# Note that x_test and y_test are for Validation. x_testf2 and temp2 are Test Set.\n",
    "from keras.models import Sequential\n",
    "from keras.layers import Dense,Flatten,Activation, Dropout\n",
    "from keras.layers import Conv1D, MaxPooling1D, GlobalMaxPooling1D"
   ]
  },
  {
   "cell_type": "markdown",
   "id": "46b2e2f9",
   "metadata": {},
   "source": [
    "## Multi-Channel CNN"
   ]
  },
  {
   "cell_type": "code",
   "execution_count": 32,
   "id": "d11863d0",
   "metadata": {},
   "outputs": [
    {
     "name": "stdout",
     "output_type": "stream",
     "text": [
      "Model: \"sequential\"\n",
      "_________________________________________________________________\n",
      "Layer (type)                 Output Shape              Param #   \n",
      "=================================================================\n",
      "conv1d (Conv1D)              (None, 1197, 3)           6006      \n",
      "_________________________________________________________________\n",
      "conv1d_1 (Conv1D)            (None, 1193, 16)          256       \n",
      "_________________________________________________________________\n",
      "conv1d_2 (Conv1D)            (None, 1189, 16)          1296      \n",
      "_________________________________________________________________\n",
      "max_pooling1d (MaxPooling1D) (None, 593, 16)           0         \n",
      "_________________________________________________________________\n",
      "conv1d_3 (Conv1D)            (None, 589, 32)           2592      \n",
      "_________________________________________________________________\n",
      "conv1d_4 (Conv1D)            (None, 585, 32)           5152      \n",
      "_________________________________________________________________\n",
      "max_pooling1d_1 (MaxPooling1 (None, 291, 32)           0         \n",
      "_________________________________________________________________\n",
      "conv1d_5 (Conv1D)            (None, 287, 64)           10304     \n",
      "_________________________________________________________________\n",
      "conv1d_6 (Conv1D)            (None, 283, 64)           20544     \n",
      "_________________________________________________________________\n",
      "max_pooling1d_2 (MaxPooling1 (None, 140, 64)           0         \n",
      "_________________________________________________________________\n",
      "conv1d_7 (Conv1D)            (None, 136, 128)          41088     \n",
      "_________________________________________________________________\n",
      "conv1d_8 (Conv1D)            (None, 132, 128)          82048     \n",
      "_________________________________________________________________\n",
      "max_pooling1d_3 (MaxPooling1 (None, 64, 128)           0         \n",
      "_________________________________________________________________\n",
      "conv1d_9 (Conv1D)            (None, 60, 256)           164096    \n",
      "_________________________________________________________________\n",
      "conv1d_10 (Conv1D)           (None, 56, 256)           327936    \n",
      "_________________________________________________________________\n",
      "max_pooling1d_4 (MaxPooling1 (None, 26, 256)           0         \n",
      "_________________________________________________________________\n",
      "flatten (Flatten)            (None, 6656)              0         \n",
      "_________________________________________________________________\n",
      "dense (Dense)                (None, 256)               1704192   \n",
      "=================================================================\n",
      "Total params: 2,365,510\n",
      "Trainable params: 2,365,510\n",
      "Non-trainable params: 0\n",
      "_________________________________________________________________\n"
     ]
    }
   ],
   "source": [
    "# First Global-View CNN\n",
    "model4 = Sequential(layers=[\n",
    "    # Note the input shape is the desired size of the Signal \n",
    "    # This is the first convolution\n",
    "    Conv1D(3, (2001), activation='relu', input_shape=(3197,1)),\n",
    "    Conv1D(16, (5), activation='relu'),\n",
    "    Conv1D(16, (5), activation='relu'),\n",
    "    MaxPooling1D(5, 2),\n",
    "   \n",
    "    Conv1D(32, (5), activation='relu'),\n",
    "    Conv1D(32, (5), activation='relu'),\n",
    "    MaxPooling1D(5, 2),\n",
    "\n",
    "    Conv1D(64, (5), activation='relu'),\n",
    "    Conv1D(64, (5), activation='relu'),\n",
    "    MaxPooling1D(5, 2),\n",
    "\n",
    "    Conv1D(128, (5), activation='relu'),\n",
    "    Conv1D(128, (5), activation='relu'),\n",
    "    MaxPooling1D(5, 2),\n",
    "\n",
    "    Conv1D(256, (5), activation='relu'),\n",
    "    Conv1D(256, (5), activation='relu'),\n",
    "    MaxPooling1D(5, 2),\n",
    "  \n",
    "    # Flatten the results to feed into a DNN\n",
    "    Flatten(),\n",
    "    Dense(256, activation='relu'),\n",
    "    \n",
    "])\n",
    "\n",
    "model4.summary()"
   ]
  },
  {
   "cell_type": "code",
   "execution_count": 33,
   "id": "655aa9c5",
   "metadata": {},
   "outputs": [
    {
     "data": {
      "text/plain": [
       "18"
      ]
     },
     "execution_count": 33,
     "metadata": {},
     "output_type": "execute_result"
    }
   ],
   "source": [
    "len(model4.layers)"
   ]
  },
  {
   "cell_type": "code",
   "execution_count": 33,
   "id": "1015fc79",
   "metadata": {},
   "outputs": [
    {
     "name": "stdout",
     "output_type": "stream",
     "text": [
      "Model: \"sequential_1\"\n",
      "_________________________________________________________________\n",
      "Layer (type)                 Output Shape              Param #   \n",
      "=================================================================\n",
      "conv1d_11 (Conv1D)           (None, 2997, 3)           606       \n",
      "_________________________________________________________________\n",
      "conv1d_12 (Conv1D)           (None, 2993, 16)          256       \n",
      "_________________________________________________________________\n",
      "conv1d_13 (Conv1D)           (None, 2989, 16)          1296      \n",
      "_________________________________________________________________\n",
      "max_pooling1d_5 (MaxPooling1 (None, 1492, 16)          0         \n",
      "_________________________________________________________________\n",
      "conv1d_14 (Conv1D)           (None, 1488, 32)          2592      \n",
      "_________________________________________________________________\n",
      "conv1d_15 (Conv1D)           (None, 1484, 32)          5152      \n",
      "_________________________________________________________________\n",
      "max_pooling1d_6 (MaxPooling1 (None, 739, 32)           0         \n",
      "_________________________________________________________________\n",
      "flatten_1 (Flatten)          (None, 23648)             0         \n",
      "_________________________________________________________________\n",
      "dense_1 (Dense)              (None, 256)               6054144   \n",
      "=================================================================\n",
      "Total params: 6,064,046\n",
      "Trainable params: 6,064,046\n",
      "Non-trainable params: 0\n",
      "_________________________________________________________________\n"
     ]
    }
   ],
   "source": [
    "# Local View CNN\n",
    "model5 = Sequential(layers=[\n",
    "    # Note the input shape is the desired size of the signal\n",
    "    # This is the first convolution\n",
    "    Conv1D(3, (201), activation='relu', input_shape=(3197,1)),\n",
    "    Conv1D(16, (5), activation='relu'),\n",
    "    Conv1D(16, (5), activation='relu'),\n",
    "    MaxPooling1D(7, 2),\n",
    "   \n",
    "    Conv1D(32, (5), activation='relu'),\n",
    "    Conv1D(32, (5), activation='relu'),\n",
    "    MaxPooling1D(7, 2),\n",
    "\n",
    "  \n",
    "    # Flatten the results to feed into a DNN\n",
    "    Flatten(),\n",
    "    Dense(256, activation='relu'),\n",
    "\n",
    "    \n",
    "])\n",
    "\n",
    "model5.summary()"
   ]
  },
  {
   "cell_type": "code",
   "execution_count": 34,
   "id": "9ce3745d",
   "metadata": {},
   "outputs": [],
   "source": [
    "# Merging outputs of both Models Together\n",
    "\n",
    "from keras.layers import concatenate\n",
    "from keras.layers import *\n",
    "mergedOut = Add()([model4.output,model5.output])"
   ]
  },
  {
   "cell_type": "code",
   "execution_count": 35,
   "id": "cf6fee70",
   "metadata": {},
   "outputs": [],
   "source": [
    "# Adding Some Fully-Connected Layers\n",
    "\n",
    "mergedOut = Dense(512, activation='relu')(mergedOut)\n",
    "mergedOut = Dense(512, activation='relu')(mergedOut)\n",
    "mergedOut = Dense(512, activation='relu')(mergedOut)\n",
    "\n",
    "# output layer\n",
    "mergedOut = Dense(1, activation='sigmoid')(mergedOut)"
   ]
  },
  {
   "cell_type": "code",
   "execution_count": 36,
   "id": "ca837f13",
   "metadata": {},
   "outputs": [
    {
     "name": "stdout",
     "output_type": "stream",
     "text": [
      "Model: \"functional_1\"\n",
      "__________________________________________________________________________________________________\n",
      "Layer (type)                    Output Shape         Param #     Connected to                     \n",
      "==================================================================================================\n",
      "conv1d_input (InputLayer)       [(None, 3197, 1)]    0                                            \n",
      "__________________________________________________________________________________________________\n",
      "conv1d (Conv1D)                 (None, 1197, 3)      6006        conv1d_input[0][0]               \n",
      "__________________________________________________________________________________________________\n",
      "conv1d_1 (Conv1D)               (None, 1193, 16)     256         conv1d[0][0]                     \n",
      "__________________________________________________________________________________________________\n",
      "conv1d_2 (Conv1D)               (None, 1189, 16)     1296        conv1d_1[0][0]                   \n",
      "__________________________________________________________________________________________________\n",
      "max_pooling1d (MaxPooling1D)    (None, 593, 16)      0           conv1d_2[0][0]                   \n",
      "__________________________________________________________________________________________________\n",
      "conv1d_3 (Conv1D)               (None, 589, 32)      2592        max_pooling1d[0][0]              \n",
      "__________________________________________________________________________________________________\n",
      "conv1d_4 (Conv1D)               (None, 585, 32)      5152        conv1d_3[0][0]                   \n",
      "__________________________________________________________________________________________________\n",
      "max_pooling1d_1 (MaxPooling1D)  (None, 291, 32)      0           conv1d_4[0][0]                   \n",
      "__________________________________________________________________________________________________\n",
      "conv1d_5 (Conv1D)               (None, 287, 64)      10304       max_pooling1d_1[0][0]            \n",
      "__________________________________________________________________________________________________\n",
      "conv1d_6 (Conv1D)               (None, 283, 64)      20544       conv1d_5[0][0]                   \n",
      "__________________________________________________________________________________________________\n",
      "conv1d_11_input (InputLayer)    [(None, 3197, 1)]    0                                            \n",
      "__________________________________________________________________________________________________\n",
      "max_pooling1d_2 (MaxPooling1D)  (None, 140, 64)      0           conv1d_6[0][0]                   \n",
      "__________________________________________________________________________________________________\n",
      "conv1d_11 (Conv1D)              (None, 2997, 3)      606         conv1d_11_input[0][0]            \n",
      "__________________________________________________________________________________________________\n",
      "conv1d_7 (Conv1D)               (None, 136, 128)     41088       max_pooling1d_2[0][0]            \n",
      "__________________________________________________________________________________________________\n",
      "conv1d_12 (Conv1D)              (None, 2993, 16)     256         conv1d_11[0][0]                  \n",
      "__________________________________________________________________________________________________\n",
      "conv1d_8 (Conv1D)               (None, 132, 128)     82048       conv1d_7[0][0]                   \n",
      "__________________________________________________________________________________________________\n",
      "conv1d_13 (Conv1D)              (None, 2989, 16)     1296        conv1d_12[0][0]                  \n",
      "__________________________________________________________________________________________________\n",
      "max_pooling1d_3 (MaxPooling1D)  (None, 64, 128)      0           conv1d_8[0][0]                   \n",
      "__________________________________________________________________________________________________\n",
      "max_pooling1d_5 (MaxPooling1D)  (None, 1492, 16)     0           conv1d_13[0][0]                  \n",
      "__________________________________________________________________________________________________\n",
      "conv1d_9 (Conv1D)               (None, 60, 256)      164096      max_pooling1d_3[0][0]            \n",
      "__________________________________________________________________________________________________\n",
      "conv1d_14 (Conv1D)              (None, 1488, 32)     2592        max_pooling1d_5[0][0]            \n",
      "__________________________________________________________________________________________________\n",
      "conv1d_10 (Conv1D)              (None, 56, 256)      327936      conv1d_9[0][0]                   \n",
      "__________________________________________________________________________________________________\n",
      "conv1d_15 (Conv1D)              (None, 1484, 32)     5152        conv1d_14[0][0]                  \n",
      "__________________________________________________________________________________________________\n",
      "max_pooling1d_4 (MaxPooling1D)  (None, 26, 256)      0           conv1d_10[0][0]                  \n",
      "__________________________________________________________________________________________________\n",
      "max_pooling1d_6 (MaxPooling1D)  (None, 739, 32)      0           conv1d_15[0][0]                  \n",
      "__________________________________________________________________________________________________\n",
      "flatten (Flatten)               (None, 6656)         0           max_pooling1d_4[0][0]            \n",
      "__________________________________________________________________________________________________\n",
      "flatten_1 (Flatten)             (None, 23648)        0           max_pooling1d_6[0][0]            \n",
      "__________________________________________________________________________________________________\n",
      "dense (Dense)                   (None, 256)          1704192     flatten[0][0]                    \n",
      "__________________________________________________________________________________________________\n",
      "dense_1 (Dense)                 (None, 256)          6054144     flatten_1[0][0]                  \n",
      "__________________________________________________________________________________________________\n",
      "add (Add)                       (None, 256)          0           dense[0][0]                      \n",
      "                                                                 dense_1[0][0]                    \n",
      "__________________________________________________________________________________________________\n",
      "dense_2 (Dense)                 (None, 512)          131584      add[0][0]                        \n",
      "__________________________________________________________________________________________________\n",
      "dense_3 (Dense)                 (None, 512)          262656      dense_2[0][0]                    \n",
      "__________________________________________________________________________________________________\n",
      "dense_4 (Dense)                 (None, 512)          262656      dense_3[0][0]                    \n",
      "__________________________________________________________________________________________________\n",
      "dense_5 (Dense)                 (None, 1)            513         dense_4[0][0]                    \n",
      "==================================================================================================\n",
      "Total params: 9,086,965\n",
      "Trainable params: 9,086,965\n",
      "Non-trainable params: 0\n",
      "__________________________________________________________________________________________________\n"
     ]
    }
   ],
   "source": [
    "from keras.models import Model\n",
    "\n",
    "newModel = Model([model4.input,model5.input], mergedOut)\n",
    "newModel.summary()"
   ]
  },
  {
   "cell_type": "code",
   "execution_count": 79,
   "id": "9dec4fc3",
   "metadata": {},
   "outputs": [],
   "source": [
    "import keras\n",
    "from tensorflow.keras.optimizers import Adam, SGD\n",
    "adam = keras.optimizers.Adadelta(learning_rate=0.001, rho=0.95)\n",
    "sgd =  keras.optimizers.Adadelta(learning_rate=0.001)\n",
    "newModel.compile(loss='binary_crossentropy',\n",
    "               optimizer = adam,     #choose the optimizer you want\n",
    "               metrics=['acc'])"
   ]
  },
  {
   "cell_type": "code",
   "execution_count": 90,
   "id": "db3eda25",
   "metadata": {},
   "outputs": [
    {
     "name": "stdout",
     "output_type": "stream",
     "text": [
      "Epoch 1/15\n",
      "808/808 [==============================] - 117s 145ms/step - loss: 0.0063 - acc: 0.9989 - val_loss: 0.1009 - val_acc: 0.9794\n",
      "Epoch 2/15\n",
      "808/808 [==============================] - 115s 143ms/step - loss: 0.0061 - acc: 0.9988 - val_loss: 0.0967 - val_acc: 0.9823\n",
      "Epoch 3/15\n",
      "808/808 [==============================] - 115s 143ms/step - loss: 0.0057 - acc: 0.9990 - val_loss: 0.1006 - val_acc: 0.9804\n",
      "Epoch 4/15\n",
      "808/808 [==============================] - 120s 149ms/step - loss: 0.0054 - acc: 0.9991 - val_loss: 0.0981 - val_acc: 0.9813\n",
      "Epoch 5/15\n",
      "808/808 [==============================] - 136s 168ms/step - loss: 0.0050 - acc: 0.9991 - val_loss: 0.1006 - val_acc: 0.9804\n",
      "Epoch 6/15\n",
      "808/808 [==============================] - 142s 176ms/step - loss: 0.0048 - acc: 0.9993 - val_loss: 0.0989 - val_acc: 0.9813\n",
      "Epoch 7/15\n",
      "808/808 [==============================] - 214s 265ms/step - loss: 0.0046 - acc: 0.9994 - val_loss: 0.0995 - val_acc: 0.9813\n",
      "Epoch 8/15\n",
      "808/808 [==============================] - 173s 214ms/step - loss: 0.0044 - acc: 0.9994 - val_loss: 0.0990 - val_acc: 0.9843\n",
      "Epoch 9/15\n",
      "808/808 [==============================] - 157s 194ms/step - loss: 0.0041 - acc: 0.9994 - val_loss: 0.1020 - val_acc: 0.9813\n",
      "Epoch 10/15\n",
      "808/808 [==============================] - 151s 187ms/step - loss: 0.0040 - acc: 0.9993 - val_loss: 0.1019 - val_acc: 0.9813\n",
      "Epoch 11/15\n",
      "808/808 [==============================] - 150s 185ms/step - loss: 0.0037 - acc: 0.9995 - val_loss: 0.1061 - val_acc: 0.9804\n",
      "Epoch 12/15\n",
      "808/808 [==============================] - 153s 190ms/step - loss: 0.0035 - acc: 0.9995 - val_loss: 0.1010 - val_acc: 0.9813\n",
      "Epoch 13/15\n",
      "808/808 [==============================] - 147s 182ms/step - loss: 0.0034 - acc: 0.9995 - val_loss: 0.1027 - val_acc: 0.9813\n",
      "Epoch 14/15\n",
      "808/808 [==============================] - 150s 186ms/step - loss: 0.0033 - acc: 0.9995 - val_loss: 0.1011 - val_acc: 0.9862\n",
      "Epoch 15/15\n",
      "808/808 [==============================] - 169s 209ms/step - loss: 0.0031 - acc: 0.9994 - val_loss: 0.1043 - val_acc: 0.9813\n"
     ]
    }
   ],
   "source": [
    "history4 = newModel.fit([np.array(x_train),np.array(x_train)], np.array(y_train_res), epochs = 15, batch_size = 10, validation_data = ([np.array(x_test),np.array(x_test)],np.array(y_test)))"
   ]
  },
  {
   "cell_type": "code",
   "execution_count": 91,
   "id": "b004ac52",
   "metadata": {},
   "outputs": [
    {
     "data": {
      "image/png": "[encoded data removed]",
      "text/plain": [
       "<Figure size 432x288 with 1 Axes>"
      ]
     },
     "metadata": {
      "needs_background": "light"
     },
     "output_type": "display_data"
    },
    {
     "data": {
      "image/png": "[encoded data removed]",
      "text/plain": [
       "<Figure size 432x288 with 1 Axes>"
      ]
     },
     "metadata": {
      "needs_background": "light"
     },
     "output_type": "display_data"
    }
   ],
   "source": [
    "import matplotlib.pyplot as plt\n",
    "acc = history4.history['acc']\n",
    "val_acc = history4.history['val_acc']\n",
    "loss = history4.history['loss']\n",
    "val_loss = history4.history['val_loss']\n",
    "\n",
    "epochs = range(len(acc))\n",
    "\n",
    "plt.plot(epochs, acc, 'r', label='Training accuracy')\n",
    "plt.plot(epochs, val_acc, 'b', label='Validation accuracy')\n",
    "plt.title('Training and validation accuracy')\n",
    "\n",
    "plt.figure()\n",
    "\n",
    "plt.plot(epochs, loss, 'r', label='Training Loss')\n",
    "plt.plot(epochs, val_loss, 'b', label='Validation Loss')\n",
    "plt.title('Training and validation loss')\n",
    "plt.legend()\n",
    "\n",
    "plt.show()"
   ]
  },
  {
   "cell_type": "code",
   "execution_count": 92,
   "id": "60621687",
   "metadata": {},
   "outputs": [],
   "source": [
    "# We can Observe from Loss and Accuracy Graphs that Model isn't Overtfitting\n",
    "y_pred = newModel.predict([x_test,x_test])\n",
    "y_pred2 = []\n",
    "for m in y_pred:\n",
    "    if m > 0.5:\n",
    "        y_pred2.append(1)\n",
    "    else:\n",
    "        y_pred2.append(0)"
   ]
  },
  {
   "cell_type": "code",
   "execution_count": 93,
   "id": "a9d4eeff",
   "metadata": {},
   "outputs": [
    {
     "data": {
      "text/plain": [
       "array([[998,   7],\n",
       "       [ 12,   1]], dtype=int64)"
      ]
     },
     "execution_count": 93,
     "metadata": {},
     "output_type": "execute_result"
    }
   ],
   "source": [
    "from sklearn.metrics import confusion_matrix, classification_report\n"
   ]
  },
  {
   "cell_type": "code",
   "execution_count": null,
   "id": "d1b563ae",
   "metadata": {},
   "outputs": [],
   "source": [
    "y_pred2 = newModel.predict([x_testf2,x_testf2])\n",
    "y_pred3 = []\n",
    "for m in y_pred2:\n",
    "    if m > 0.5:\n",
    "        y_pred3.append(1)\n",
    "    else:\n",
    "        y_pred3.append(0)"
   ]
  },
  {
   "cell_type": "code",
   "execution_count": 97,
   "id": "667fc7ab",
   "metadata": {},
   "outputs": [
    {
     "data": {
      "text/plain": [
       "array([[564,   1],\n",
       "       [  3,   2]], dtype=int64)"
      ]
     },
     "execution_count": 97,
     "metadata": {},
     "output_type": "execute_result"
    }
   ],
   "source": [
    "confusion_matrix([int(x) for x in temp2],[int(y) for y in y_pred3])"
   ]
  },
  {
   "cell_type": "code",
   "execution_count": 96,
   "id": "f591abdc",
   "metadata": {},
   "outputs": [
    {
     "name": "stdout",
     "output_type": "stream",
     "text": [
      "              precision    recall  f1-score   support\n",
      "\n",
      "           0       0.99      1.00      1.00       565\n",
      "           1       0.67      0.40      0.50         5\n",
      "\n",
      "    accuracy                           0.99       570\n",
      "   macro avg       0.83      0.70      0.75       570\n",
      "weighted avg       0.99      0.99      0.99       570\n",
      "\n"
     ]
    }
   ],
   "source": [
    "# Precision and Recall are perfect for the Non-ExoPlanets because the model predicts Non-ExoPlanets Flawlessly\n",
    "# Recall goes down for Exo-Planets because 2 Exo-Planets were Mis-Classified as Non-ExoPlanets\n",
    "\n",
    "print(classification_report([int(x) for x in temp2],[int(y) for y in y_pred3]))"
   ]
  },
  {
   "cell_type": "code",
   "execution_count": null,
   "id": "c28b7a33",
   "metadata": {},
   "outputs": [],
   "source": []
  }
 ],
 "metadata": {
  "kernelspec": {
   "display_name": "Python 3",
   "language": "python",
   "name": "python3"
  },
  "language_info": {
   "codemirror_mode": {
    "name": "ipython",
    "version": 3
   },
   "file_extension": ".py",
   "mimetype": "text/x-python",
   "name": "python",
   "nbconvert_exporter": "python",
   "pygments_lexer": "ipython3",
   "version": "3.8.8"
  }
 },
 "nbformat": 4,
 "nbformat_minor": 5
}
